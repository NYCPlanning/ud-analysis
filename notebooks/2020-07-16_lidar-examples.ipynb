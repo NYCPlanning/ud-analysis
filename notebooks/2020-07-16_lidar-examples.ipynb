{
 "cells": [
  {
   "cell_type": "markdown",
   "metadata": {},
   "source": [
    "This notebook demonstrates some basic techniques for working with LIDAR data in Jupyter.\n",
    "\n",
    "Resources:\n",
    "- Breddels, Maarten. “Interactive 3D Visualization in Jupyter.” Presented at the SciPy 2018, February 4, 2018. [https://www.youtube.com/watch?v=hOKa8klJPyo](https://www.youtube.com/watch?v=hOKa8klJPyo).\n",
    "- Carette, Mathieu. “Efficient and Interactive 3D Point Cloud Processing.” Presented at the FOSDEM 2018, February 4, 2018. [https://www.youtube.com/watch?v=1oXVDG6Iop0](https://www.youtube.com/watch?v=1oXVDG6Iop0). [notebook](https://github.com/rockestate/point-cloud-processing/blob/master/notebooks/point-cloud-processing-static.ipynb)\n",
    "- Meyer, Theresa, and Ansgar Brunn. “3D Point Clouds in PostgreSQL/PostGIS for Applications in GIS and Geodesy:” In Proceedings of the 5th International Conference on Geographical Information Systems Theory, Applications and Management, 154–63. Heraklion, Crete, Greece: SCITEPRESS - Science and Technology Publications, 2019. https://doi.org/10.5220/0007840901540163.\n",
    "\n",
    "\n",
    "\n"
   ]
  },
  {
   "cell_type": "markdown",
   "metadata": {},
   "source": [
    "## Pointcloud Classes\n",
    "\n",
    "from [https://github.com/CityOfNewYork/nyc-geo-metadata/blob/master/Metadata/Metadata_TopobathymetricClassifiedPointCloud.md]\n",
    "\n",
    "- 1 - Default/Unclassified\n",
    "- 1 WO - Default/Unclassified Withheld Overlap\n",
    "- 2 - Ground\n",
    "- 7 W - Noise Withheld\n",
    "- 9 - Water\n",
    "- 10 - Ignored Ground (Water's Edge)\n",
    "- 17 - Bridge\n",
    "- 25 - Subway Stairs\n",
    "- 40 - Bathymetric Bottom\n",
    "- 41 - Water Surface\n",
    "- 45 - Water Column"
   ]
  },
  {
   "cell_type": "code",
   "execution_count": 1,
   "metadata": {},
   "outputs": [],
   "source": [
    "import os\n",
    "\n",
    "from dotenv import load_dotenv, find_dotenv\n",
    "from geoalchemy2 import Geometry, WKTElement\n",
    "import geopandas as gpd\n",
    "import ipyleaflet\n",
    "import ipyvolume as ipv\n",
    "import json\n",
    "import numpy as np\n",
    "import numpy.linalg as la\n",
    "import pandas as pd\n",
    "import pdal\n",
    "import pyproj\n",
    "import pythreejs\n",
    "import scipy\n",
    "from shapely.geometry import shape\n",
    "from shapely.ops import transform\n",
    "from sqlalchemy import *\n"
   ]
  },
  {
   "cell_type": "code",
   "execution_count": 2,
   "metadata": {},
   "outputs": [],
   "source": [
    "# query postgis to retrieve points\n",
    "load_dotenv(find_dotenv())\n",
    "conn_vars = ['DEV_USER', 'DEV_PASSWORD', 'DEV_HOST', 'DEV_PORT', 'DEV_DB']\n",
    "user, password, host, port, dbname = [os.getenv(var) for var in conn_vars]\n",
    "conn_string = f'postgresql+psycopg2://{user}:{password}@{host}:{port}/{dbname}'"
   ]
  },
  {
   "cell_type": "code",
   "execution_count": 3,
   "metadata": {},
   "outputs": [],
   "source": [
    "engine = create_engine(conn_string)"
   ]
  },
  {
   "cell_type": "code",
   "execution_count": 4,
   "metadata": {},
   "outputs": [
    {
     "data": {
      "application/vnd.jupyter.widget-view+json": {
       "model_id": "679cda7f8c2f457685548b0d91199fd4",
       "version_major": 2,
       "version_minor": 0
      },
      "text/plain": [
       "Map(center=[40.71216, -74.007153], controls=(ZoomControl(options=['position', 'zoom_in_text', 'zoom_in_title',…"
      ]
     },
     "metadata": {},
     "output_type": "display_data"
    }
   ],
   "source": [
    "m = ipyleaflet.Map(center=(40.712160, -74.007153), zoom=16)\n",
    "dc = ipyleaflet.DrawControl()\n",
    "m.add_control(dc)\n",
    "m"
   ]
  },
  {
   "cell_type": "code",
   "execution_count": 5,
   "metadata": {
    "tags": []
   },
   "outputs": [
    {
     "name": "stderr",
     "output_type": "stream",
     "text": [
      "/Users/carstenrodin/miniconda3/envs/gis/lib/python3.7/site-packages/pyproj/crs/crs.py:53: FutureWarning: '+init=<authority>:<code>' syntax is deprecated. '<authority>:<code>' is the preferred initialization method. When making the change, be mindful of axis order changes: https://pyproj4.github.io/pyproj/stable/gotchas.html#axis-order-changes-in-proj-6\n",
      "  return _prepare_from_string(\" \".join(pjargs))\n",
      "/Users/carstenrodin/miniconda3/envs/gis/lib/python3.7/site-packages/pyproj/crs/crs.py:294: FutureWarning: '+init=<authority>:<code>' syntax is deprecated. '<authority>:<code>' is the preferred initialization method. When making the change, be mindful of axis order changes: https://pyproj4.github.io/pyproj/stable/gotchas.html#axis-order-changes-in-proj-6\n",
      "  projstring = _prepare_from_string(\" \".join((projstring, projkwargs)))\n",
      "/Users/carstenrodin/miniconda3/envs/gis/lib/python3.7/site-packages/pyproj/crs/crs.py:53: FutureWarning: '+init=<authority>:<code>' syntax is deprecated. '<authority>:<code>' is the preferred initialization method. When making the change, be mindful of axis order changes: https://pyproj4.github.io/pyproj/stable/gotchas.html#axis-order-changes-in-proj-6\n",
      "  return _prepare_from_string(\" \".join(pjargs))\n",
      "/Users/carstenrodin/miniconda3/envs/gis/lib/python3.7/site-packages/pyproj/crs/crs.py:294: FutureWarning: '+init=<authority>:<code>' syntax is deprecated. '<authority>:<code>' is the preferred initialization method. When making the change, be mindful of axis order changes: https://pyproj4.github.io/pyproj/stable/gotchas.html#axis-order-changes-in-proj-6\n",
      "  projstring = _prepare_from_string(\" \".join((projstring, projkwargs)))\n"
     ]
    },
    {
     "data": {
      "text/plain": [
       "2.25"
      ]
     },
     "execution_count": 5,
     "metadata": {},
     "output_type": "execute_result"
    }
   ],
   "source": [
    "# get site bounds reprojected as epsg 2263\n",
    "project = pyproj.Transformer.from_proj(\n",
    "    pyproj.Proj(init='epsg:4326'),\n",
    "    pyproj.Proj(init='epsg:2263')\n",
    ")\n",
    "\n",
    "map_bounds = dc.last_draw['geometry']\n",
    "site_bounds_object = transform(project.transform, shape(map_bounds))\n",
    "site_bounds = site_bounds_object.wkt\n",
    "marker_size = m.zoom * 0.125\n",
    "marker_size"
   ]
  },
  {
   "cell_type": "markdown",
   "metadata": {},
   "source": [
    "In order to get eigenvalues and normals needed for classification and mesh separation, the points need to be imported through PDAL rather than straight from PostGIS to a dataframe:"
   ]
  },
  {
   "cell_type": "code",
   "execution_count": 6,
   "metadata": {
    "tags": []
   },
   "outputs": [
    {
     "name": "stdout",
     "output_type": "stream",
     "text": [
      "CPU times: user 502 ms, sys: 52.5 ms, total: 554 ms\n",
      "Wall time: 1.21 s\n"
     ]
    }
   ],
   "source": [
    "# get lidar points using PDAL\n",
    "pipeline_def = {\n",
    "    \"pipeline\": [\n",
    "        {\n",
    "            \"type\":\"readers.pgpointcloud\",\n",
    "            \"connection\": f'host={host} dbname={dbname} user={user} password={password} port={port}',\n",
    "            \"table\": \"doitt_pointcloud_v2017\",\n",
    "            \"column\": \"pa\",\n",
    "            \"spatialreference\": \"EPSG:2263\",\n",
    "            \"where\": f\"PC_Intersects(pa, ST_GeomFromText('{site_bounds}',2263))\"\n",
    "        },\n",
    "        {\n",
    "            \"type\":\"filters.crop\",\n",
    "            \"polygon\": f\"{site_bounds}\",\n",
    "            \"distance\": 500\n",
    "        },\n",
    "        {   \"type\":\"filters.hag\"},\n",
    "        {   \"type\":\"filters.eigenvalues\",\n",
    "            \"knn\":16},\n",
    "        {   \"type\":\"filters.normal\",\n",
    "            \"knn\":16}\n",
    "    ]}\n",
    "pipeline = pdal.Pipeline(json.dumps(pipeline_def))\n",
    "pipeline.validate()\n",
    "%time n_points = pipeline.execute()\n"
   ]
  },
  {
   "cell_type": "code",
   "execution_count": 7,
   "metadata": {},
   "outputs": [],
   "source": [
    "arr = pipeline.arrays[0]\n",
    "description = arr.dtype.descr\n",
    "cols = [col for col, __ in description]\n",
    "df = pd.DataFrame({col: arr[col] for col in cols})"
   ]
  },
  {
   "cell_type": "code",
   "execution_count": 8,
   "metadata": {},
   "outputs": [],
   "source": [
    "# \"zero\" all coordinates for visualization\n",
    "df['X_0'] = df['X'] - df['X'].min()\n",
    "df['Y_0'] = df['Y'] - df['Y'].min()\n",
    "df['Z_0'] = df['Z'] - df['Z'].min()\n"
   ]
  },
  {
   "cell_type": "code",
   "execution_count": 10,
   "metadata": {},
   "outputs": [
    {
     "data": {
      "application/vnd.jupyter.widget-view+json": {
       "model_id": "9d8d3266120342c2869d5f5ea448c9be",
       "version_major": 2,
       "version_minor": 0
      },
      "text/plain": [
       "VBox(children=(Figure(camera=PerspectiveCamera(fov=45.0, position=(0.0, 0.0, 2.0), quaternion=(0.0, 0.0, 0.0, …"
      ]
     },
     "metadata": {},
     "output_type": "display_data"
    }
   ],
   "source": [
    "# z and y coordinates are swapped here to use the orientation convention of ipyvolume\n",
    "fig = ipv.figure()\n",
    "fig.camera_control = 'pan'\n",
    "# fig.camera.fov=2\n",
    "\n",
    "control = pythreejs.OrbitControls(controlling=fig.camera)\n",
    "fig.controls = control\n",
    "control.autoRotate = True\n",
    "fig.render_continuous = True\n",
    "\n",
    "\n",
    "scatter = ipv.scatter(\n",
    "    df['X_0'].to_numpy(),\n",
    "    df['Z_0'].to_numpy(), \n",
    "    df['Y_0'].to_numpy(), \n",
    "    marker='box', \n",
    "    size=marker_size/2,\n",
    "    color='lightgray')\n",
    "\n",
    "ipv.squarelim()\n",
    "ipv.style.box_off()\n",
    "ipv.style.axes_off()\n",
    "ipv.show()"
   ]
  },
  {
   "cell_type": "code",
   "execution_count": 11,
   "metadata": {},
   "outputs": [],
   "source": [
    "# filter out trees & vegetation\n",
    "df['tree'] = (df['Classification']==1) & (df['HeightAboveGround'] >= 2) & (df['Eigenvalue0'] > .3) &  (df['NumberOfReturns'] - df['ReturnNumber'] >= 1)\n",
    "\n",
    "tree = ipv.scatter(\n",
    "    df.loc[df['tree'], 'X_0'].to_numpy(),\n",
    "    df.loc[df['tree'], 'Z_0'].to_numpy(),\n",
    "    df.loc[df['tree'], 'Y_0'].to_numpy(),\n",
    "    marker='box', \n",
    "    size=marker_size)\n",
    "\n",
    "nontree = ipv.scatter(\n",
    "    df.loc[-df['tree'], 'X_0'].to_numpy(),\n",
    "    df.loc[-df['tree'], 'Z_0'].to_numpy(),\n",
    "    df.loc[-df['tree'], 'Y_0'].to_numpy(),\n",
    "    marker='box', \n",
    "    size=marker_size/2)\n",
    "\n",
    "tree.color='darkgreen'\n",
    "nontree.color='lightgrey'\n",
    "\n",
    "# turn off the original one\n",
    "scatter.visible=False\n"
   ]
  },
  {
   "cell_type": "code",
   "execution_count": 12,
   "metadata": {},
   "outputs": [],
   "source": [
    "# preview roof normals\n",
    "roof_mask = (df['Classification'] == 1) & (df['HeightAboveGround'] > 10) & (df['Eigenvalue0'] <= .03) & (df['NumberOfReturns'] == df['ReturnNumber'])\n",
    "\n",
    "roof_normals = ipv.quiver(\n",
    "    df.loc[roof_mask, 'X_0'].to_numpy(),\n",
    "    df.loc[roof_mask, 'Z_0'].to_numpy(),\n",
    "    df.loc[roof_mask, 'Y_0'].to_numpy(),\n",
    "    df.loc[roof_mask, 'NormalX'].to_numpy(),\n",
    "    df.loc[roof_mask, 'NormalZ'].to_numpy(),\n",
    "    df.loc[roof_mask, 'NormalY'].to_numpy(),\n",
    "    size=marker_size * 3)\n",
    "\n",
    "tree.visible=False    \n",
    "#nontree.visible=False\n",
    "nontree.size=marker_size/3\n",
    "fig.scatters.append(roof_normals)\n"
   ]
  },
  {
   "cell_type": "code",
   "execution_count": 14,
   "metadata": {
    "tags": []
   },
   "outputs": [
    {
     "name": "stdout",
     "output_type": "stream",
     "text": [
      "90.00003218077504\n"
     ]
    }
   ],
   "source": [
    "vector_1 = np.array([0, 0, 1])\n",
    "vector_2 = np.array([1, 0, 0])\n",
    "\n",
    "def angle_between(v1, v2, degrees=False):\n",
    "    cosang = np.dot(v1, v2)\n",
    "    sinang = la.norm(np.cross(v1, v2))\n",
    "    angle_rad = np.arctan2(sinang, cosang)\n",
    "    multiplier = 1 if not degrees else 57.2958\n",
    "    return angle_rad * multiplier\n",
    "\n",
    "print(angle_between(vector_1, vector_2, degrees=True))\n",
    "\n"
   ]
  },
  {
   "cell_type": "code",
   "execution_count": 15,
   "metadata": {
    "tags": []
   },
   "outputs": [
    {
     "name": "stdout",
     "output_type": "stream",
     "text": [
      "14.506819508015914\n"
     ]
    }
   ],
   "source": [
    "# measure angles on roof normals to check for flat/pitched\n",
    "unit_z = np.array([0,0,1])\n",
    "unit_x = np.array([1,0,0])\n",
    "# angle_between(unit_z, )\n",
    "\n",
    "df[\"angle_off_vertical\"] = df.apply(lambda item: angle_between(unit_z, np.array([item['NormalX'], item['NormalY'], item['NormalZ']]), degrees=True), axis=1)\n",
    "print(df.loc[roof_mask, 'angle_off_vertical'].mean())\n"
   ]
  },
  {
   "cell_type": "markdown",
   "metadata": {},
   "source": [
    "## Results\n",
    "\n",
    "(radians)\n",
    "\n",
    "- City Hall – 0.21747444233505575\n",
    "- Woolworth Bldg - 0.052321990773626474\n",
    "- 220 Water St - 0.03576590175579552\n",
    "- Trinity Church - 0.3591973430650027\n",
    "- Hamilton Grange - 0.05496603853048108\n",
    "- 35-25 78th St QN - 0.03528081704716978\n",
    "- 74-21 45th Ave QN - 0.44292554392860095\n",
    "- 89-11 158th ave QN - 0.519264806084324\n",
    "- 570 7th St BK - 0.03786772705167711\n"
   ]
  },
  {
   "cell_type": "code",
   "execution_count": 41,
   "metadata": {},
   "outputs": [],
   "source": [
    "# mark points as ground/nonground, construct ground surface\n",
    "# df['ground'] = df['Classification'] == 2\n",
    "# ground_mesh = scipy.spatial.Delaunay(df.loc[df['ground'], ['X', 'Y']])"
   ]
  },
  {
   "cell_type": "code",
   "execution_count": null,
   "metadata": {},
   "outputs": [],
   "source": [
    "# process the results to get a \"section\""
   ]
  },
  {
   "cell_type": "markdown",
   "metadata": {},
   "source": [
    "## More Resources\n",
    "\n",
    "- [Point Data Abstraction Library (PDAL)](https://pdal.io/index.html)\n",
    "- [PostgreSQL Pointcloud Extension](https://github.com/pgpointcloud/pointcloud)"
   ]
  }
 ],
 "metadata": {
  "kernelspec": {
   "display_name": "Python 3.7.7 64-bit ('gis': conda)",
   "language": "python",
   "name": "python37764bitgisconda25dfcab64be54f598257cb202c5ac606"
  },
  "language_info": {
   "codemirror_mode": {
    "name": "ipython",
    "version": 3
   },
   "file_extension": ".py",
   "mimetype": "text/x-python",
   "name": "python",
   "nbconvert_exporter": "python",
   "pygments_lexer": "ipython3",
   "version": "3.7.7"
  }
 },
 "nbformat": 4,
 "nbformat_minor": 2
}
