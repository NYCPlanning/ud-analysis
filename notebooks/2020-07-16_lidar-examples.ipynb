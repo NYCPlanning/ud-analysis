{
 "cells": [
  {
   "cell_type": "markdown",
   "metadata": {},
   "source": [
    "This notebook demonstrates some basic techniques for working with LIDAR data in Jupyter.\n",
    "\n",
    "Resources:\n",
    "- Breddels, Maarten. “Interactive 3D Visualization in Jupyter.” Presented at the SciPy 2018, February 4, 2018. [https://www.youtube.com/watch?v=hOKa8klJPyo](https://www.youtube.com/watch?v=hOKa8klJPyo).\n",
    "- Carette, Mathieu. “Efficient and Interactive 3D Point Cloud Processing.” Presented at the FOSDEM 2018, February 4, 2018. [https://www.youtube.com/watch?v=1oXVDG6Iop0](https://www.youtube.com/watch?v=1oXVDG6Iop0). [notebook](https://github.com/rockestate/point-cloud-processing/blob/master/notebooks/point-cloud-processing-static.ipynb)\n",
    "\n",
    "\n"
   ]
  },
  {
   "cell_type": "markdown",
   "metadata": {},
   "source": [
    "## Pointcloud Classes\n",
    "\n",
    "from [https://github.com/CityOfNewYork/nyc-geo-metadata/blob/master/Metadata/Metadata_TopobathymetricClassifiedPointCloud.md]\n",
    "\n",
    "- 1 - Default/Unclassified\n",
    "- 1 WO - Default/Unclassified Withheld Overlap\n",
    "- 2 - Ground\n",
    "- 7 W - Noise Withheld\n",
    "- 9 - Water\n",
    "- 10 - Ignored Ground (Water's Edge)\n",
    "- 17 - Bridge\n",
    "- 25 - Subway Stairs\n",
    "- 40 - Bathymetric Bottom\n",
    "- 41 - Water Surface\n",
    "- 45 - Water Column"
   ]
  },
  {
   "cell_type": "code",
   "execution_count": 19,
   "metadata": {},
   "outputs": [],
   "source": [
    "from dotenv import load_dotenv, find_dotenv\n",
    "from geoalchemy2 import Geometry, WKTElement\n",
    "import geopandas as gpd\n",
    "import ipyleaflet\n",
    "import ipyvolume as ipv\n",
    "import json\n",
    "import numpy as np\n",
    "import pandas as pd\n",
    "import pdal\n",
    "import pyproj\n",
    "import pythreejs\n",
    "import scipy\n",
    "from shapely.geometry import shape\n",
    "from shapely.ops import transform\n",
    "from sqlalchemy import *\n"
   ]
  },
  {
   "cell_type": "code",
   "execution_count": 2,
   "metadata": {},
   "outputs": [],
   "source": [
    "# query postgis to retrieve points\n",
    "load_dotenv(find_dotenv())\n",
    "conn_vars = ['DEV_USER', 'DEV_PASSWORD', 'DEV_HOST', 'DEV_PORT', 'DEV_DB']\n",
    "user, password, host, port, dbname = [os.getenv(var) for var in conn_vars]\n",
    "conn_string = f'postgresql+psycopg2://{user}:{password}@{host}:{port}/{dbname}'"
   ]
  },
  {
   "cell_type": "code",
   "execution_count": 3,
   "metadata": {},
   "outputs": [],
   "source": [
    "engine = create_engine(conn_string)"
   ]
  },
  {
   "cell_type": "code",
   "execution_count": 4,
   "metadata": {},
   "outputs": [
    {
     "output_type": "display_data",
     "data": {
      "text/plain": "Map(center=[40.71216, -74.007153], controls=(ZoomControl(options=['position', 'zoom_in_text', 'zoom_in_title',…",
      "application/vnd.jupyter.widget-view+json": {
       "version_major": 2,
       "version_minor": 0,
       "model_id": "02abe1d789b84616baca5d17bdd519e5"
      }
     },
     "metadata": {}
    }
   ],
   "source": [
    "m = ipyleaflet.Map(center=(40.712160, -74.007153), zoom=16)\n",
    "dc = ipyleaflet.DrawControl()\n",
    "m.add_control(dc)\n",
    "m"
   ]
  },
  {
   "cell_type": "code",
   "execution_count": 82,
   "metadata": {
    "tags": []
   },
   "outputs": [
    {
     "output_type": "stream",
     "name": "stderr",
     "text": "/Users/carstenrodin/miniconda3/envs/gis/lib/python3.7/site-packages/pyproj/crs/crs.py:53: FutureWarning: '+init=<authority>:<code>' syntax is deprecated. '<authority>:<code>' is the preferred initialization method. When making the change, be mindful of axis order changes: https://pyproj4.github.io/pyproj/stable/gotchas.html#axis-order-changes-in-proj-6\n  return _prepare_from_string(\" \".join(pjargs))\n/Users/carstenrodin/miniconda3/envs/gis/lib/python3.7/site-packages/pyproj/crs/crs.py:294: FutureWarning: '+init=<authority>:<code>' syntax is deprecated. '<authority>:<code>' is the preferred initialization method. When making the change, be mindful of axis order changes: https://pyproj4.github.io/pyproj/stable/gotchas.html#axis-order-changes-in-proj-6\n  projstring = _prepare_from_string(\" \".join((projstring, projkwargs)))\n/Users/carstenrodin/miniconda3/envs/gis/lib/python3.7/site-packages/pyproj/crs/crs.py:53: FutureWarning: '+init=<authority>:<code>' syntax is deprecated. '<authority>:<code>' is the preferred initialization method. When making the change, be mindful of axis order changes: https://pyproj4.github.io/pyproj/stable/gotchas.html#axis-order-changes-in-proj-6\n  return _prepare_from_string(\" \".join(pjargs))\n/Users/carstenrodin/miniconda3/envs/gis/lib/python3.7/site-packages/pyproj/crs/crs.py:294: FutureWarning: '+init=<authority>:<code>' syntax is deprecated. '<authority>:<code>' is the preferred initialization method. When making the change, be mindful of axis order changes: https://pyproj4.github.io/pyproj/stable/gotchas.html#axis-order-changes-in-proj-6\n  projstring = _prepare_from_string(\" \".join((projstring, projkwargs)))\n"
    }
   ],
   "source": [
    "# get site bounds reprojected as epsg 2263\n",
    "project = pyproj.Transformer.from_proj(\n",
    "    pyproj.Proj(init='epsg:4326'),\n",
    "    pyproj.Proj(init='epsg:2263')\n",
    ")\n",
    "\n",
    "map_bounds = dc.last_draw['geometry']\n",
    "site_bounds = transform(project.transform, shape(map_bounds)).wkt"
   ]
  },
  {
   "cell_type": "code",
   "execution_count": 91,
   "metadata": {},
   "outputs": [
    {
     "output_type": "error",
     "ename": "NameError",
     "evalue": "name 'mksize' is not defined",
     "traceback": [
      "\u001b[0;31m---------------------------------------------------------------------------\u001b[0m",
      "\u001b[0;31mNameError\u001b[0m                                 Traceback (most recent call last)",
      "\u001b[0;32m<ipython-input-91-fcc5552f66b9>\u001b[0m in \u001b[0;36m<module>\u001b[0;34m\u001b[0m\n\u001b[0;32m----> 1\u001b[0;31m \u001b[0mmksize\u001b[0m\u001b[0;34m\u001b[0m\u001b[0;34m\u001b[0m\u001b[0m\n\u001b[0m",
      "\u001b[0;31mNameError\u001b[0m: name 'mksize' is not defined"
     ]
    }
   ],
   "source": [
    "mksize "
   ]
  },
  {
   "cell_type": "markdown",
   "metadata": {},
   "source": [
    "In order to get eigenvalues and normals needed for classification and mesh separation, the points need to be imported through PDAL rather than straight from PostGIS to a dataframe:"
   ]
  },
  {
   "cell_type": "code",
   "execution_count": 83,
   "metadata": {
    "tags": []
   },
   "outputs": [
    {
     "output_type": "stream",
     "name": "stdout",
     "text": "CPU times: user 76.4 ms, sys: 15.4 ms, total: 91.8 ms\nWall time: 361 ms\n"
    }
   ],
   "source": [
    "# get lidar points using PDAL\n",
    "pipeline_def = {\n",
    "    \"pipeline\": [\n",
    "        {\n",
    "            \"type\":\"readers.pgpointcloud\",\n",
    "            \"connection\": f'host={host} dbname={dbname} user={user} password={password} port={port}',\n",
    "            \"table\": \"doitt_pointcloud_v2017\",\n",
    "            \"column\": \"pa\",\n",
    "            \"spatialreference\": \"EPSG:2263\",\n",
    "            \"where\": f\"PC_Intersects(pa, ST_GeomFromText('{site_bounds}',2263))\"\n",
    "        },\n",
    "        {\n",
    "            \"type\":\"filters.crop\",\n",
    "            \"polygon\": f\"{site_bounds}\",\n",
    "            \"distance\": 500\n",
    "        },\n",
    "        {   \"type\":\"filters.hag\"},\n",
    "        {   \"type\":\"filters.eigenvalues\",\n",
    "            \"knn\":16},\n",
    "        {   \"type\":\"filters.normal\",\n",
    "            \"knn\":16}\n",
    "    ]}\n",
    "pipeline = pdal.Pipeline(json.dumps(pipeline_def))\n",
    "pipeline.validate()\n",
    "%time n_points = pipeline.execute()\n"
   ]
  },
  {
   "cell_type": "code",
   "execution_count": 84,
   "metadata": {},
   "outputs": [],
   "source": [
    "arr = pipeline.arrays[0]\n",
    "description = arr.dtype.descr\n",
    "cols = [col for col, __ in description]\n",
    "df = pd.DataFrame({col: arr[col] for col in cols})"
   ]
  },
  {
   "cell_type": "code",
   "execution_count": 85,
   "metadata": {},
   "outputs": [],
   "source": [
    "# \"zero\" all coordinates for visualization\n",
    "df['X_0'] = df['X'] - df['X'].min()\n",
    "df['Y_0'] = df['Y'] - df['Y'].min()\n",
    "df['Z_0'] = df['Z'] - df['Z'].min()\n"
   ]
  },
  {
   "cell_type": "code",
   "execution_count": 87,
   "metadata": {},
   "outputs": [
    {
     "output_type": "display_data",
     "data": {
      "text/plain": "VBox(children=(Figure(camera=PerspectiveCamera(fov=45.0, position=(0.0, 0.0, 2.0), quaternion=(0.0, 0.0, 0.0, …",
      "application/vnd.jupyter.widget-view+json": {
       "version_major": 2,
       "version_minor": 0,
       "model_id": "bf556d136d4e4115990ca09ea71468cd"
      }
     },
     "metadata": {}
    }
   ],
   "source": [
    "# z and y coordinates are swapped here to use the orientation convention of ipyvolume\n",
    "fig = ipv.figure()\n",
    "fig.camera_control = 'pan'\n",
    "\n",
    "control = pythreejs.OrbitControls(controlling=fig.camera)\n",
    "fig.controls = control\n",
    "# control.autoRotate = True\n",
    "\n",
    "scatter = ipv.scatter(\n",
    "    df['X_0'].to_numpy(),\n",
    "    df['Z_0'].to_numpy(), \n",
    "    df['Y_0'].to_numpy(), \n",
    "    marker='box', \n",
    "    size=mksize)\n",
    "\n",
    "ipv.squarelim()\n",
    "ipv.style.box_off()\n",
    "ipv.style.axes_off()\n",
    "ipv.show()"
   ]
  },
  {
   "cell_type": "code",
   "execution_count": 88,
   "metadata": {},
   "outputs": [],
   "source": [
    "# filter out trees & vegetation\n",
    "df['tree'] = (df['Classification']==1) & (df['HeightAboveGround'] >= 2) & (df['Eigenvalue0'] > .05) &  (df['NumberOfReturns'] - df['ReturnNumber'] >= 1)\n",
    "\n",
    "tree = ipv.scatter(\n",
    "    df.loc[df['tree'], 'X_0'].to_numpy(),\n",
    "    df.loc[df['tree'], 'Z_0'].to_numpy(),\n",
    "    df.loc[df['tree'], 'Y_0'].to_numpy(),\n",
    "    marker='box', \n",
    "    size=mksize)\n",
    "\n",
    "nontree = ipv.scatter(\n",
    "    df.loc[-df['tree'], 'X_0'].to_numpy(),\n",
    "    df.loc[-df['tree'], 'Z_0'].to_numpy(),\n",
    "    df.loc[-df['tree'], 'Y_0'].to_numpy(),\n",
    "    marker='box', \n",
    "    size=mksize)\n",
    "\n",
    "tree.color='darkgreen'\n",
    "nontree.color='lightgrey'\n",
    "\n",
    "# turn off the original one\n",
    "scatter.visible=False\n"
   ]
  },
  {
   "cell_type": "code",
   "execution_count": 89,
   "metadata": {},
   "outputs": [],
   "source": [
    "# get roof points\n",
    "roof_mask = (df['Classification'] == 1) & (df['HeightAboveGround'] > 7) & (df['Eigenvalue0'] <= .02) & (df['NumberOfReturns'] == df['ReturnNumber'])"
   ]
  },
  {
   "cell_type": "code",
   "execution_count": 90,
   "metadata": {},
   "outputs": [],
   "source": [
    "roof_normals = ipv.quiver(\n",
    "    df.loc[roof_mask, 'X_0'].to_numpy(),\n",
    "    df.loc[roof_mask, 'Z_0'].to_numpy(),\n",
    "    df.loc[roof_mask, 'Y_0'].to_numpy(),\n",
    "    df.loc[roof_mask, 'NormalX'].to_numpy(),\n",
    "    df.loc[roof_mask, 'NormalZ'].to_numpy(),\n",
    "    df.loc[roof_mask, 'NormalY'].to_numpy(),\n",
    "    size=3)\n",
    "fig.scatters.append(roof_normals)"
   ]
  },
  {
   "cell_type": "code",
   "execution_count": 41,
   "metadata": {},
   "outputs": [],
   "source": [
    "# mark points as ground/nonground, construct ground surface\n",
    "df['ground'] = df['Classification'] == 2\n",
    "ground_mesh = scipy.spatial.Delaunay(df.loc[df['ground'], ['X', 'Y']])"
   ]
  },
  {
   "cell_type": "code",
   "execution_count": null,
   "metadata": {},
   "outputs": [],
   "source": [
    "# process the results to get a \"section\""
   ]
  },
  {
   "cell_type": "markdown",
   "metadata": {},
   "source": [
    "## More Resources\n",
    "\n",
    "- [Point Data Abstraction Library (PDAL)](https://pdal.io/index.html)\n",
    "- [PostgreSQL Pointcloud Extension](https://github.com/pgpointcloud/pointcloud)"
   ]
  }
 ],
 "metadata": {
  "kernelspec": {
   "display_name": "Python 3.7.7 64-bit ('gis': conda)",
   "language": "python",
   "name": "python37764bitgisconda25dfcab64be54f598257cb202c5ac606"
  },
  "language_info": {
   "codemirror_mode": {
    "name": "ipython",
    "version": 3
   },
   "file_extension": ".py",
   "mimetype": "text/x-python",
   "name": "python",
   "nbconvert_exporter": "python",
   "pygments_lexer": "ipython3",
   "version": "3.7.7-final"
  }
 },
 "nbformat": 4,
 "nbformat_minor": 2
}