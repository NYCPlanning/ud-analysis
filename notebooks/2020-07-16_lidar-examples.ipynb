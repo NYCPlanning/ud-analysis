{
 "cells": [
  {
   "cell_type": "markdown",
   "metadata": {},
   "source": [
    "This notebook demonstrates some basic techniques for working with LIDAR data in Jupyter.\n",
    "\n",
    "Resources:\n",
    "- Breddels, Maarten. “Interactive 3D Visualization in Jupyter.” Presented at the SciPy 2018, February 4, 2018. [https://www.youtube.com/watch?v=hOKa8klJPyo](https://www.youtube.com/watch?v=hOKa8klJPyo).\n",
    "- Carette, Mathieu. “Efficient and Interactive 3D Point Cloud Processing.” Presented at the FOSDEM 2018, February 4, 2018. [https://www.youtube.com/watch?v=1oXVDG6Iop0](https://www.youtube.com/watch?v=1oXVDG6Iop0).\n",
    "\n",
    "\n"
   ]
  },
  {
   "cell_type": "code",
   "execution_count": 87,
   "metadata": {},
   "outputs": [],
   "source": [
    "from dotenv import load_dotenv, find_dotenv\n",
    "from geoalchemy2 import Geometry, WKTElement\n",
    "import geopandas as gpd\n",
    "import ipyleaflet\n",
    "import ipyvolume as ipv\n",
    "import numpy as np\n",
    "import pandas as pd\n",
    "import pyproj\n",
    "import pythreejs\n",
    "from shapely.geometry import shape\n",
    "from shapely.ops import transform\n",
    "from sqlalchemy import *\n"
   ]
  },
  {
   "cell_type": "code",
   "execution_count": 2,
   "metadata": {},
   "outputs": [],
   "source": [
    "# query postgis to retrieve points\n",
    "load_dotenv(find_dotenv())\n",
    "conn_vars = ['DEV_USER', 'DEV_PASSWORD', 'DEV_HOST', 'DEV_PORT', 'DEV_DB']\n",
    "user, password, host, port, dbname = [os.getenv(var) for var in conn_vars]\n",
    "conn_string = f'postgresql+psycopg2://{user}:{password}@{host}:{port}/{dbname}'"
   ]
  },
  {
   "cell_type": "code",
   "execution_count": 3,
   "metadata": {},
   "outputs": [],
   "source": [
    "engine = create_engine(conn_string)"
   ]
  },
  {
   "cell_type": "code",
   "execution_count": 60,
   "metadata": {},
   "outputs": [
    {
     "data": {
      "application/vnd.jupyter.widget-view+json": {
       "model_id": "41557252d9f54c1c9346c6910560e689",
       "version_major": 2,
       "version_minor": 0
      },
      "text/plain": [
       "Map(center=[40.71216, -74.007153], controls=(ZoomControl(options=['position', 'zoom_in_text', 'zoom_in_title',…"
      ]
     },
     "metadata": {},
     "output_type": "display_data"
    }
   ],
   "source": [
    "m = ipyleaflet.Map(center=(40.712160, -74.007153), zoom=16)\n",
    "dc = ipyleaflet.DrawControl()\n",
    "m.add_control(dc)\n",
    "m"
   ]
  },
  {
   "cell_type": "code",
   "execution_count": 73,
   "metadata": {},
   "outputs": [
    {
     "data": {
      "text/plain": [
       "'POLYGON ((985871.2810432309 198158.5470172858, 986638.6577798544 198309.4430955068, 986600.0928350925 198611.8334662987, 985833.55255324 198530.890058656, 985871.2810432309 198158.5470172858))'"
      ]
     },
     "execution_count": 73,
     "metadata": {},
     "output_type": "execute_result"
    }
   ],
   "source": [
    "# get site bounds reprojected as epsg 2263\n",
    "project = pyproj.Transformer.from_proj(\n",
    "    pyproj.Proj(init='epsg:4326'),\n",
    "    pyproj.Proj(init='epsg:2263')\n",
    ")\n",
    "\n",
    "map_bounds = dc.last_draw['geometry']\n",
    "site_bounds = transform(project.transform, shape(map_bounds)).wkt\n",
    "site_bounds\n"
   ]
  },
  {
   "cell_type": "code",
   "execution_count": 83,
   "metadata": {},
   "outputs": [],
   "source": [
    "query = f'''\n",
    "WITH patches AS (\n",
    "    SELECT pa\n",
    "    FROM\n",
    "        doitt_pointcloud_v2017 pts\n",
    "    WHERE\n",
    "        PC_Intersects(\n",
    "            pts.pa,\n",
    "            ST_Buffer(\n",
    "                ST_GeomFromText(\n",
    "                    '{site_bounds}', \n",
    "                    2263\n",
    "                ),\n",
    "                15\n",
    "            )\n",
    "        )        \n",
    "),\n",
    "points AS (\n",
    "    SELECT\n",
    "        PC_Explode(pa)\n",
    "        AS pt\n",
    "    FROM\n",
    "        patches\n",
    "),\n",
    "filtered_points AS ( \n",
    "    SELECT \n",
    "        PC_Get(pt, 'x') AS x,\n",
    "        PC_Get(pt, 'y') AS y,\n",
    "        PC_Get(pt, 'z') AS z,\n",
    "        pt\n",
    "    FROM\n",
    "        points\n",
    "        -- mtsthelens_rim r\n",
    "    -- WHERE\n",
    "    -- ST_Intersects (pt::geometry,\n",
    "    -- ST_Buffer(r.geom, 15)) \n",
    ")\n",
    "SELECT\n",
    "    Geometry(pt) as geometry\n",
    "FROM \n",
    "    filtered_points;\n",
    "'''"
   ]
  },
  {
   "cell_type": "code",
   "execution_count": 86,
   "metadata": {},
   "outputs": [
    {
     "data": {
      "text/plain": [
       "0          POINT Z (985837.720 198099.580 8.270)\n",
       "1          POINT Z (985837.830 198109.030 8.270)\n",
       "2          POINT Z (985837.840 198135.410 9.550)\n",
       "3          POINT Z (985837.960 198091.240 8.010)\n",
       "4          POINT Z (985837.970 198115.620 8.430)\n",
       "                           ...                  \n",
       "188960    POINT Z (986632.960 198629.580 84.740)\n",
       "188961    POINT Z (986633.020 198646.410 76.570)\n",
       "188962    POINT Z (986633.030 198612.440 24.840)\n",
       "188963    POINT Z (986633.040 198642.010 86.320)\n",
       "188964    POINT Z (986633.040 198613.100 75.790)\n",
       "Name: geometry, Length: 188965, dtype: geometry"
      ]
     },
     "execution_count": 86,
     "metadata": {},
     "output_type": "execute_result"
    }
   ],
   "source": [
    "# get geodataframe from postgis\n",
    "gdf = gpd.read_postgis(query, engine, geom_col='geometry')\n",
    "gdf['geometry']"
   ]
  },
  {
   "cell_type": "code",
   "execution_count": null,
   "metadata": {},
   "outputs": [],
   "source": [
    "# visualize the results in ipyvolume\n"
   ]
  },
  {
   "cell_type": "code",
   "execution_count": 88,
   "metadata": {},
   "outputs": [
    {
     "data": {
      "application/vnd.jupyter.widget-view+json": {
       "model_id": "737f77be1b1d490d8b8fe0123f76cb3c",
       "version_major": 2,
       "version_minor": 0
      },
      "text/plain": [
       "VBox(children=(Figure(camera=PerspectiveCamera(fov=45.0, position=(0.0, 0.0, 2.0), quaternion=(0.0, 0.0, 0.0, …"
      ]
     },
     "metadata": {},
     "output_type": "display_data"
    }
   ],
   "source": [
    "# simple example from Breddels 2018\n",
    "N = 1000\n",
    "x, y, z = np.random.normal(0, 1, (3, N))\n",
    "fig = ipv.figure()\n",
    "# fig.camera_control = 'pan'\n",
    "\n",
    "control = pythreejs.OrbitControls(controlling=fig.camera)\n",
    "fig.controls = control\n",
    "# control.autoRotate = True\n",
    "fig.render_continuous = True\n",
    "\n",
    "scatter = ipv.scatter(x, y, z, marker='sphere')\n",
    "ipv.show()"
   ]
  },
  {
   "cell_type": "code",
   "execution_count": null,
   "metadata": {},
   "outputs": [],
   "source": [
    "scatter.geo = 'box'\n",
    "scatter.x = x + 2\n",
    "# ipv.save"
   ]
  },
  {
   "cell_type": "code",
   "execution_count": null,
   "metadata": {},
   "outputs": [],
   "source": [
    "# process the results to get a \"section\""
   ]
  }
 ],
 "metadata": {
  "kernelspec": {
   "display_name": "Python 3.7.7 64-bit ('gis': conda)",
   "language": "python",
   "name": "python37764bitgisconda25dfcab64be54f598257cb202c5ac606"
  },
  "language_info": {
   "codemirror_mode": {
    "name": "ipython",
    "version": 3
   },
   "file_extension": ".py",
   "mimetype": "text/x-python",
   "name": "python",
   "nbconvert_exporter": "python",
   "pygments_lexer": "ipython3",
   "version": "3.7.7"
  }
 },
 "nbformat": 4,
 "nbformat_minor": 2
}
