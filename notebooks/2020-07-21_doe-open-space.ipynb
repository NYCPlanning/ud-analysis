{
 "cells": [
  {
   "cell_type": "markdown",
   "metadata": {},
   "source": [
    "# Open Space on Department of Education Sites\n",
    "\n",
    "## Data Sources\n",
    "\n",
    "- MapPLUTO through NYC Digital Twin\n",
    "- [Building Footprints](https://data.cityofnewyork.us/Housing-Development/Building-Footprints/nqwf-w8eh)\n",
    "[docs](https://github.com/CityOfNewYork/nyc-geo-metadata/blob/master/Metadata/Metadata_BuildingFootprints.md)\n",
    "- [Land Cover Raster](https://data.cityofnewyork.us/Environment/Land-Cover-Raster-Data-2017-6in-Resolution/he6d-2qns)\n",
    "[docs](https://github.com/CityOfNewYork/nyc-geo-metadata/blob/master/Metadata/Metadata_LandCover.md)\n"
   ]
  },
  {
   "cell_type": "code",
   "execution_count": 1,
   "metadata": {},
   "outputs": [],
   "source": [
    "import os\n",
    "import geopandas as gpd\n",
    "from dotenv import load_dotenv, find_dotenv\n",
    "\n",
    "from geoalchemy2 import Geometry, WKTElement\n",
    "import ipyleaflet\n",
    "import pandas as pd\n",
    "import pyproj\n",
    "from shapely.geometry import shape\n",
    "from shapely.ops import transform\n",
    "import sqlalchemy"
   ]
  },
  {
   "cell_type": "code",
   "execution_count": 17,
   "metadata": {},
   "outputs": [],
   "source": [
    "pd.set_option(\"display.precision\", 8)"
   ]
  },
  {
   "cell_type": "code",
   "execution_count": 2,
   "metadata": {},
   "outputs": [
    {
     "data": {
      "text/plain": [
       "True"
      ]
     },
     "execution_count": 2,
     "metadata": {},
     "output_type": "execute_result"
    }
   ],
   "source": [
    "# load environment variables from .env file\n",
    "load_dotenv(find_dotenv())"
   ]
  },
  {
   "cell_type": "code",
   "execution_count": 3,
   "metadata": {},
   "outputs": [],
   "source": [
    "# tmp folder for downloaded data\n",
    "LOCAL_PATH = os.getenv(\"LOCAL_PATH\")"
   ]
  },
  {
   "cell_type": "code",
   "execution_count": 5,
   "metadata": {},
   "outputs": [],
   "source": [
    "# db connection\n",
    "conn_vars = ['REMOTE_TMP_USER', 'REMOTE_TMP_PASSWORD', 'REMOTE_TMP_HOST', 'REMOTE_TMP_PORT', 'REMOTE_TMP_DB']\n",
    "user, password, host, port, dbname = [os.getenv(var) for var in conn_vars]\n",
    "conn_string = f'postgresql+psycopg2://{user}:{password}@{host}:{port}/{dbname}'"
   ]
  },
  {
   "cell_type": "code",
   "execution_count": 12,
   "metadata": {},
   "outputs": [],
   "source": [
    "engine = sqlalchemy.create_engine(conn_string)"
   ]
  },
  {
   "cell_type": "markdown",
   "metadata": {},
   "source": [
    "## Fetch Data from PostGIS & Downloaded Files"
   ]
  },
  {
   "cell_type": "code",
   "execution_count": 52,
   "metadata": {},
   "outputs": [],
   "source": [
    "with open('../queries/2020-07-21_doe-open-space.sql', 'r') as file:\n",
    "    f = file.read()\n",
    "    openspace_query = sqlalchemy.text(f)"
   ]
  },
  {
   "cell_type": "code",
   "execution_count": 53,
   "metadata": {},
   "outputs": [],
   "source": [
    "# get geodataframe from postgis\n",
    "openspace_gdf = gpd.read_postgis(openspace_query, engine, geom_col='geometry')"
   ]
  },
  {
   "cell_type": "code",
   "execution_count": 54,
   "metadata": {},
   "outputs": [
    {
     "data": {
      "text/html": [
       "<div>\n",
       "<style scoped>\n",
       "    .dataframe tbody tr th:only-of-type {\n",
       "        vertical-align: middle;\n",
       "    }\n",
       "\n",
       "    .dataframe tbody tr th {\n",
       "        vertical-align: top;\n",
       "    }\n",
       "\n",
       "    .dataframe thead th {\n",
       "        text-align: right;\n",
       "    }\n",
       "</style>\n",
       "<table border=\"1\" class=\"dataframe\">\n",
       "  <thead>\n",
       "    <tr style=\"text-align: right;\">\n",
       "      <th></th>\n",
       "      <th>geometry</th>\n",
       "      <th>bbl</th>\n",
       "      <th>ownername</th>\n",
       "    </tr>\n",
       "  </thead>\n",
       "  <tbody>\n",
       "    <tr>\n",
       "      <th>0</th>\n",
       "      <td>POLYGON ((980585.862 200939.528, 980563.536 20...</td>\n",
       "      <td>1000160215.0</td>\n",
       "      <td>NYC DEPARTMENT OF EDUCATION</td>\n",
       "    </tr>\n",
       "    <tr>\n",
       "      <th>1</th>\n",
       "      <td>MULTIPOLYGON (((985184.455 198016.292, 984775....</td>\n",
       "      <td>1001110160.0</td>\n",
       "      <td>NYC DEPARTMENT OF EDUCATION</td>\n",
       "    </tr>\n",
       "    <tr>\n",
       "      <th>2</th>\n",
       "      <td>None</td>\n",
       "      <td>1001420001.0</td>\n",
       "      <td>NYC DEPARTMENT OF EDUCATION</td>\n",
       "    </tr>\n",
       "    <tr>\n",
       "      <th>3</th>\n",
       "      <td>None</td>\n",
       "      <td>1002360006.0</td>\n",
       "      <td>NYC DEPARTMENT OF EDUCATION</td>\n",
       "    </tr>\n",
       "    <tr>\n",
       "      <th>4</th>\n",
       "      <td>POLYGON ((984805.422 201174.561, 984795.074 20...</td>\n",
       "      <td>1002360038.0</td>\n",
       "      <td>NYC DEPARTMENT OF EDUCATION</td>\n",
       "    </tr>\n",
       "    <tr>\n",
       "      <th>...</th>\n",
       "      <td>...</td>\n",
       "      <td>...</td>\n",
       "      <td>...</td>\n",
       "    </tr>\n",
       "    <tr>\n",
       "      <th>1095</th>\n",
       "      <td>POLYGON ((923415.126 136802.876, 923420.950 13...</td>\n",
       "      <td>5070920039.0</td>\n",
       "      <td>NYC DEPARTMENT OF EDUCATION</td>\n",
       "    </tr>\n",
       "    <tr>\n",
       "      <th>1096</th>\n",
       "      <td>POLYGON ((918243.790 136113.764, 918695.519 13...</td>\n",
       "      <td>5073150007.0</td>\n",
       "      <td>NYC DEPARTMENT OF EDUCATION</td>\n",
       "    </tr>\n",
       "    <tr>\n",
       "      <th>1097</th>\n",
       "      <td>POLYGON ((920502.139 124994.901, 920171.105 12...</td>\n",
       "      <td>5077600001.0</td>\n",
       "      <td>NYC DEPARTMENT OF EDUCATION</td>\n",
       "    </tr>\n",
       "    <tr>\n",
       "      <th>1098</th>\n",
       "      <td>POLYGON ((916288.700 124518.554, 916594.881 12...</td>\n",
       "      <td>5078940001.0</td>\n",
       "      <td>NYC DEPARTMENT OF EDUCATION</td>\n",
       "    </tr>\n",
       "    <tr>\n",
       "      <th>1099</th>\n",
       "      <td>POLYGON ((916594.881 124596.725, 916288.700 12...</td>\n",
       "      <td>5078980001.0</td>\n",
       "      <td>NYC DEPARTMENT OF EDUCATION</td>\n",
       "    </tr>\n",
       "  </tbody>\n",
       "</table>\n",
       "<p>1100 rows × 3 columns</p>\n",
       "</div>"
      ],
      "text/plain": [
       "                                               geometry           bbl  \\\n",
       "0     POLYGON ((980585.862 200939.528, 980563.536 20...  1000160215.0   \n",
       "1     MULTIPOLYGON (((985184.455 198016.292, 984775....  1001110160.0   \n",
       "2                                                  None  1001420001.0   \n",
       "3                                                  None  1002360006.0   \n",
       "4     POLYGON ((984805.422 201174.561, 984795.074 20...  1002360038.0   \n",
       "...                                                 ...           ...   \n",
       "1095  POLYGON ((923415.126 136802.876, 923420.950 13...  5070920039.0   \n",
       "1096  POLYGON ((918243.790 136113.764, 918695.519 13...  5073150007.0   \n",
       "1097  POLYGON ((920502.139 124994.901, 920171.105 12...  5077600001.0   \n",
       "1098  POLYGON ((916288.700 124518.554, 916594.881 12...  5078940001.0   \n",
       "1099  POLYGON ((916594.881 124596.725, 916288.700 12...  5078980001.0   \n",
       "\n",
       "                        ownername  \n",
       "0     NYC DEPARTMENT OF EDUCATION  \n",
       "1     NYC DEPARTMENT OF EDUCATION  \n",
       "2     NYC DEPARTMENT OF EDUCATION  \n",
       "3     NYC DEPARTMENT OF EDUCATION  \n",
       "4     NYC DEPARTMENT OF EDUCATION  \n",
       "...                           ...  \n",
       "1095  NYC DEPARTMENT OF EDUCATION  \n",
       "1096  NYC DEPARTMENT OF EDUCATION  \n",
       "1097  NYC DEPARTMENT OF EDUCATION  \n",
       "1098  NYC DEPARTMENT OF EDUCATION  \n",
       "1099  NYC DEPARTMENT OF EDUCATION  \n",
       "\n",
       "[1100 rows x 3 columns]"
      ]
     },
     "execution_count": 54,
     "metadata": {},
     "output_type": "execute_result"
    }
   ],
   "source": [
    "openspace_gdf"
   ]
  },
  {
   "cell_type": "code",
   "execution_count": 55,
   "metadata": {},
   "outputs": [
    {
     "data": {
      "text/plain": [
       "<matplotlib.axes._subplots.AxesSubplot at 0x125a255d0>"
      ]
     },
     "execution_count": 55,
     "metadata": {},
     "output_type": "execute_result"
    },
    {
     "data": {
      "image/png": "[encoded data removed]",
      "text/plain": [
       "<Figure size 432x288 with 1 Axes>"
      ]
     },
     "metadata": {
      "needs_background": "light"
     },
     "output_type": "display_data"
    }
   ],
   "source": [
    "openspace_gdf.plot()"
   ]
  },
  {
   "cell_type": "code",
   "execution_count": 56,
   "metadata": {},
   "outputs": [],
   "source": [
    "openspace_gdf.to_file(\"/Users/carstenrodin/Desktop/tmp/openspace3.geojson\", driver='GeoJSON')"
   ]
  },
  {
   "cell_type": "code",
   "execution_count": 49,
   "metadata": {},
   "outputs": [],
   "source": [
    "with open('../queries/2020-07-21_parks.sql', 'r') as file:\n",
    "    f = file.read()\n",
    "    parks_query = sqlalchemy.text(f)"
   ]
  },
  {
   "cell_type": "code",
   "execution_count": 50,
   "metadata": {},
   "outputs": [],
   "source": [
    "parks_gdf = gpd.read_postgis(parks_query, engine, geom_col='geometry')"
   ]
  },
  {
   "cell_type": "code",
   "execution_count": 51,
   "metadata": {},
   "outputs": [],
   "source": [
    "parks_gdf.to_file(\"/Users/carstenrodin/Desktop/tmp/parks.geojson\", driver='GeoJSON')"
   ]
  }
 ],
 "metadata": {
  "kernelspec": {
   "display_name": "Python 3.7.7 64-bit ('gis': conda)",
   "language": "python",
   "name": "python37764bitgisconda25dfcab64be54f598257cb202c5ac606"
  },
  "language_info": {
   "codemirror_mode": {
    "name": "ipython",
    "version": 3
   },
   "file_extension": ".py",
   "mimetype": "text/x-python",
   "name": "python",
   "nbconvert_exporter": "python",
   "pygments_lexer": "ipython3",
   "version": "3.7.7"
  }
 },
 "nbformat": 4,
 "nbformat_minor": 2
}
