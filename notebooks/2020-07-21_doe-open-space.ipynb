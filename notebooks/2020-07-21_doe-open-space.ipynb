{
 "cells": [
  {
   "cell_type": "markdown",
   "metadata": {},
   "source": [
    "# Open Space on Department of Education Sites\n",
    "\n",
    "## Data Sources\n",
    "\n",
    "- MapPLUTO through NYC Digital Twin\n",
    "- [Building Footprints](https://data.cityofnewyork.us/Housing-Development/Building-Footprints/nqwf-w8eh)\n",
    "[docs](https://github.com/CityOfNewYork/nyc-geo-metadata/blob/master/Metadata/Metadata_BuildingFootprints.md)\n",
    "- [Land Cover Raster](https://data.cityofnewyork.us/Environment/Land-Cover-Raster-Data-2017-6in-Resolution/he6d-2qns)\n",
    "[docs](https://github.com/CityOfNewYork/nyc-geo-metadata/blob/master/Metadata/Metadata_LandCover.md)\n",
    "- [Elevation Raster]() \n"
   ]
  },
  {
   "cell_type": "code",
   "execution_count": 19,
   "metadata": {},
   "outputs": [],
   "source": [
    "import os\n",
    "import geopandas as gpd\n",
    "from dotenv import load_dotenv, find_dotenv\n",
    "\n",
    "from geoalchemy2 import Geometry, WKTElement\n",
    "import ipyleaflet\n",
    "import pandas as pd\n",
    "import psycopg2\n",
    "import pyproj\n",
    "from rasterio.io import MemoryFile\n",
    "from shapely.geometry import shape\n",
    "from shapely.ops import transform\n",
    "import sqlalchemy"
   ]
  },
  {
   "cell_type": "code",
   "execution_count": 2,
   "metadata": {},
   "outputs": [],
   "source": [
    "pd.set_option(\"display.precision\", 8)"
   ]
  },
  {
   "cell_type": "code",
   "execution_count": 3,
   "metadata": {},
   "outputs": [
    {
     "output_type": "execute_result",
     "data": {
      "text/plain": "True"
     },
     "metadata": {},
     "execution_count": 3
    }
   ],
   "source": [
    "# load environment variables from .env file\n",
    "load_dotenv(find_dotenv())"
   ]
  },
  {
   "cell_type": "code",
   "execution_count": 4,
   "metadata": {},
   "outputs": [],
   "source": [
    "# tmp folder for downloaded data\n",
    "LOCAL_PATH = os.getenv(\"LOCAL_PATH\")"
   ]
  },
  {
   "cell_type": "code",
   "execution_count": 8,
   "metadata": {},
   "outputs": [],
   "source": [
    "# remote db connection\n",
    "conn_vars = ['REMOTE_TMP_USER', 'REMOTE_TMP_PASSWORD', 'REMOTE_TMP_HOST', 'REMOTE_TMP_PORT', 'REMOTE_TMP_DB']\n",
    "user, password, host, port, dbname = [os.getenv(var) for var in conn_vars]\n",
    "conn_string = f'postgresql+psycopg2://{user}:{password}@{host}:{port}/{dbname}'\n",
    "engine = sqlalchemy.create_engine(conn_string)"
   ]
  },
  {
   "cell_type": "code",
   "execution_count": 23,
   "metadata": {},
   "outputs": [],
   "source": [
    "# local db connection\n",
    "local_conn_vars = ['DEV_USER', 'DEV_PASSWORD', 'DEV_HOST', 'DEV_PORT', 'DEV_DB']\n",
    "luser, lpassword, lhost, lport, ldbname = [os.getenv(var) for var in conn_vars]\n",
    "local_conn_string = f'postgresql://{luser}:{lpassword}@{lhost}:{lport}/{ldbname}'\n",
    "local_conn = psycopg2.connect(local_conn_string)\n"
   ]
  },
  {
   "cell_type": "markdown",
   "metadata": {},
   "source": [
    "## Open Space on DOE Lots"
   ]
  },
  {
   "cell_type": "code",
   "execution_count": 10,
   "metadata": {},
   "outputs": [],
   "source": [
    "with open('../queries/2020-07-21_doe-open-space.sql', 'r') as file:\n",
    "    f = file.read()\n",
    "    openspace_query = sqlalchemy.text(f)"
   ]
  },
  {
   "cell_type": "code",
   "execution_count": 11,
   "metadata": {},
   "outputs": [],
   "source": [
    "# get geodataframe from postgis\n",
    "openspace_gdf = gpd.read_postgis(openspace_query, engine, geom_col='geometry')"
   ]
  },
  {
   "cell_type": "code",
   "execution_count": 13,
   "metadata": {},
   "outputs": [
    {
     "data": {
      "text/html": [
       "<div>\n",
       "<style scoped>\n",
       "    .dataframe tbody tr th:only-of-type {\n",
       "        vertical-align: middle;\n",
       "    }\n",
       "\n",
       "    .dataframe tbody tr th {\n",
       "        vertical-align: top;\n",
       "    }\n",
       "\n",
       "    .dataframe thead th {\n",
       "        text-align: right;\n",
       "    }\n",
       "</style>\n",
       "<table border=\"1\" class=\"dataframe\">\n",
       "  <thead>\n",
       "    <tr style=\"text-align: right;\">\n",
       "      <th></th>\n",
       "      <th>geometry</th>\n",
       "      <th>bbl</th>\n",
       "      <th>ownername</th>\n",
       "    </tr>\n",
       "  </thead>\n",
       "  <tbody>\n",
       "    <tr>\n",
       "      <th>0</th>\n",
       "      <td>POLYGON ((980585.862 200939.528, 980563.536 20...</td>\n",
       "      <td>1000160215.0</td>\n",
       "      <td>NYC DEPARTMENT OF EDUCATION</td>\n",
       "    </tr>\n",
       "    <tr>\n",
       "      <th>1</th>\n",
       "      <td>MULTIPOLYGON (((985184.455 198016.292, 984775....</td>\n",
       "      <td>1001110160.0</td>\n",
       "      <td>NYC DEPARTMENT OF EDUCATION</td>\n",
       "    </tr>\n",
       "    <tr>\n",
       "      <th>2</th>\n",
       "      <td>None</td>\n",
       "      <td>1001420001.0</td>\n",
       "      <td>NYC DEPARTMENT OF EDUCATION</td>\n",
       "    </tr>\n",
       "    <tr>\n",
       "      <th>3</th>\n",
       "      <td>None</td>\n",
       "      <td>1002360006.0</td>\n",
       "      <td>NYC DEPARTMENT OF EDUCATION</td>\n",
       "    </tr>\n",
       "    <tr>\n",
       "      <th>4</th>\n",
       "      <td>POLYGON ((984805.422 201174.561, 984795.074 20...</td>\n",
       "      <td>1002360038.0</td>\n",
       "      <td>NYC DEPARTMENT OF EDUCATION</td>\n",
       "    </tr>\n",
       "    <tr>\n",
       "      <th>...</th>\n",
       "      <td>...</td>\n",
       "      <td>...</td>\n",
       "      <td>...</td>\n",
       "    </tr>\n",
       "    <tr>\n",
       "      <th>1095</th>\n",
       "      <td>POLYGON ((923415.126 136802.876, 923420.950 13...</td>\n",
       "      <td>5070920039.0</td>\n",
       "      <td>NYC DEPARTMENT OF EDUCATION</td>\n",
       "    </tr>\n",
       "    <tr>\n",
       "      <th>1096</th>\n",
       "      <td>POLYGON ((918243.790 136113.764, 918695.519 13...</td>\n",
       "      <td>5073150007.0</td>\n",
       "      <td>NYC DEPARTMENT OF EDUCATION</td>\n",
       "    </tr>\n",
       "    <tr>\n",
       "      <th>1097</th>\n",
       "      <td>POLYGON ((920502.139 124994.901, 920171.105 12...</td>\n",
       "      <td>5077600001.0</td>\n",
       "      <td>NYC DEPARTMENT OF EDUCATION</td>\n",
       "    </tr>\n",
       "    <tr>\n",
       "      <th>1098</th>\n",
       "      <td>POLYGON ((916288.700 124518.554, 916594.881 12...</td>\n",
       "      <td>5078940001.0</td>\n",
       "      <td>NYC DEPARTMENT OF EDUCATION</td>\n",
       "    </tr>\n",
       "    <tr>\n",
       "      <th>1099</th>\n",
       "      <td>POLYGON ((916594.881 124596.725, 916288.700 12...</td>\n",
       "      <td>5078980001.0</td>\n",
       "      <td>NYC DEPARTMENT OF EDUCATION</td>\n",
       "    </tr>\n",
       "  </tbody>\n",
       "</table>\n",
       "<p>1100 rows × 3 columns</p>\n",
       "</div>"
      ],
      "text/plain": [
       "                                               geometry           bbl  \\\n",
       "0     POLYGON ((980585.862 200939.528, 980563.536 20...  1000160215.0   \n",
       "1     MULTIPOLYGON (((985184.455 198016.292, 984775....  1001110160.0   \n",
       "2                                                  None  1001420001.0   \n",
       "3                                                  None  1002360006.0   \n",
       "4     POLYGON ((984805.422 201174.561, 984795.074 20...  1002360038.0   \n",
       "...                                                 ...           ...   \n",
       "1095  POLYGON ((923415.126 136802.876, 923420.950 13...  5070920039.0   \n",
       "1096  POLYGON ((918243.790 136113.764, 918695.519 13...  5073150007.0   \n",
       "1097  POLYGON ((920502.139 124994.901, 920171.105 12...  5077600001.0   \n",
       "1098  POLYGON ((916288.700 124518.554, 916594.881 12...  5078940001.0   \n",
       "1099  POLYGON ((916594.881 124596.725, 916288.700 12...  5078980001.0   \n",
       "\n",
       "                        ownername  \n",
       "0     NYC DEPARTMENT OF EDUCATION  \n",
       "1     NYC DEPARTMENT OF EDUCATION  \n",
       "2     NYC DEPARTMENT OF EDUCATION  \n",
       "3     NYC DEPARTMENT OF EDUCATION  \n",
       "4     NYC DEPARTMENT OF EDUCATION  \n",
       "...                           ...  \n",
       "1095  NYC DEPARTMENT OF EDUCATION  \n",
       "1096  NYC DEPARTMENT OF EDUCATION  \n",
       "1097  NYC DEPARTMENT OF EDUCATION  \n",
       "1098  NYC DEPARTMENT OF EDUCATION  \n",
       "1099  NYC DEPARTMENT OF EDUCATION  \n",
       "\n",
       "[1100 rows x 3 columns]"
      ]
     },
     "execution_count": 13,
     "metadata": {},
     "output_type": "execute_result"
    }
   ],
   "source": [
    "openspace_gdf"
   ]
  },
  {
   "cell_type": "code",
   "execution_count": 46,
   "metadata": {},
   "outputs": [
    {
     "output_type": "execute_result",
     "data": {
      "text/plain": "'POLYGON ((980585.8616470844 200939.5279607624, 980563.5362324268 200823.3667757511, 980550.8800897598 200757.518482253, 980536.9132541716 200684.8486800939, 980195.9920200109 200888.76231426, 980261.2327031791 200997.9609147608, 980585.8616470844 200939.5279607624), (980214.2774165596 200888.5415141637, 980268.872451723 200855.9428260863, 980445.5771508076 200750.4318822374, 980475.3385742275 200732.6612484974, 980533.4149016454 200697.9838244066, 980539.0713863927 200728.3446560857, 980542.2285323148 200745.2904883227, 980552.8528548919 200802.3146524962, 980553.0083663916 200803.5318416544, 980553.0415028206 200803.8622215706, 980553.0575788927 200804.0321687495, 980553.0798885694 200804.2933230749, 980553.1025263077 200804.5902385021, 980553.1422244027 200805.2523106502, 980553.1546915626 200805.5354465732, 980553.1694553039 200805.995091318, 980553.178313569 200806.6748799869, 980553.174704641 200807.1768474951, 980553.1527230564 200807.9609666617, 980553.1110564786 200808.7273693261, 980553.0526576508 200809.4629321558, 980552.9548888057 200810.3763161649, 980552.831201389 200811.2706713283, 980552.6973433964 200812.0715227464, 980552.5352702279 200812.8992769966, 980552.3699162281 200813.6391049078, 980552.2006252228 200814.3175812425, 980551.928316058 200815.2913325774, 980551.5267420586 200816.539033496, 980551.0109950628 200817.9182958233, 980550.4401300559 200819.2444086534, 980549.7547639781 200820.6404032508, 980548.9640831517 200822.0560828376, 980548.3469583964 200823.0498472502, 980547.7915133088 200823.8756329852, 980548.7849496473 200829.6023275728, 980556.6556688111 200828.2391413114, 980575.6198697265 200933.5099281679, 980547.9056863037 200938.5023722459, 980500.5320933876 200947.0368040013, 980499.1567680511 200939.4029609921, 980478.0498548893 200943.2054468323, 980479.7247203133 200952.5030004166, 980405.254396811 200965.9186560026, 980403.5099777291 200954.6299646556, 980381.9762281459 200967.0833518307, 980382.2049022343 200968.3530343282, 980276.4236177204 200987.4094266687, 980271.5528925683 200979.2519626745, 980262.732044058 200964.4793544098, 980233.2685203097 200915.1352929929, 980220.8650018132 200894.3626967426, 980218.5713712295 200895.7324446656, 980214.2774165596 200888.5415141637))'"
     },
     "metadata": {},
     "execution_count": 46
    }
   ],
   "source": [
    "openspace_shapes = openspace_gdf['geometry'].dropna().apply(lambda g: g.wkt).tolist()\n",
    "openspace_shapes[0]"
   ]
  },
  {
   "cell_type": "markdown",
   "metadata": {},
   "source": [
    "## Slope & Landcover"
   ]
  },
  {
   "cell_type": "code",
   "execution_count": 42,
   "metadata": {},
   "outputs": [],
   "source": [
    "with open('../queries/2020-07-23_doe-open-space-slope-landcover.sql', 'r') as file:\n",
    "    f = file.read()\n",
    "    landscape_query = f"
   ]
  },
  {
   "cell_type": "code",
   "execution_count": 43,
   "metadata": {},
   "outputs": [
    {
     "output_type": "execute_result",
     "data": {
      "text/plain": "'SELECT\\n  ST_AsTIFF(\\n    ST_Clip(\\n      lc.rast,\\n      ST_Collect(%(bounds)s)\\n    )\\n  )\\nFROM\\n  doitt_landcover_v2017 lc\\n;'"
     },
     "metadata": {},
     "execution_count": 43
    }
   ],
   "source": [
    "landscape_query"
   ]
  },
  {
   "cell_type": "code",
   "execution_count": 44,
   "metadata": {},
   "outputs": [
    {
     "output_type": "error",
     "ename": "InFailedSqlTransaction",
     "evalue": "current transaction is aborted, commands ignored until end of transaction block\n",
     "traceback": [
      "\u001b[0;31m---------------------------------------------------------------------------\u001b[0m",
      "\u001b[0;31mInFailedSqlTransaction\u001b[0m                    Traceback (most recent call last)",
      "\u001b[0;32m<ipython-input-44-72b2da073269>\u001b[0m in \u001b[0;36m<module>\u001b[0;34m\u001b[0m\n\u001b[1;32m      2\u001b[0m \u001b[0;31m# landscape_gdf = gpd.read_postgis(landscape_query, engine, geom_col='geometry', params={'bounds': openspace_shapes})\u001b[0m\u001b[0;34m\u001b[0m\u001b[0;34m\u001b[0m\u001b[0;34m\u001b[0m\u001b[0m\n\u001b[1;32m      3\u001b[0m \u001b[0mlocal_cursor\u001b[0m \u001b[0;34m=\u001b[0m \u001b[0mlocal_conn\u001b[0m\u001b[0;34m.\u001b[0m\u001b[0mcursor\u001b[0m\u001b[0;34m(\u001b[0m\u001b[0;34m)\u001b[0m\u001b[0;34m\u001b[0m\u001b[0;34m\u001b[0m\u001b[0m\n\u001b[0;32m----> 4\u001b[0;31m \u001b[0mlocal_cursor\u001b[0m\u001b[0;34m.\u001b[0m\u001b[0mexecute\u001b[0m\u001b[0;34m(\u001b[0m\u001b[0mlandscape_query\u001b[0m\u001b[0;34m,\u001b[0m \u001b[0;34m{\u001b[0m\u001b[0;34m'bounds'\u001b[0m\u001b[0;34m:\u001b[0m \u001b[0mopenspace_shapes\u001b[0m\u001b[0;34m}\u001b[0m\u001b[0;34m)\u001b[0m\u001b[0;34m\u001b[0m\u001b[0;34m\u001b[0m\u001b[0m\n\u001b[0m\u001b[1;32m      5\u001b[0m \u001b[0;34m\u001b[0m\u001b[0m\n\u001b[1;32m      6\u001b[0m \u001b[0;32mfor\u001b[0m \u001b[0mrow\u001b[0m \u001b[0;32min\u001b[0m \u001b[0mlocal_cursor\u001b[0m\u001b[0;34m:\u001b[0m\u001b[0;34m\u001b[0m\u001b[0;34m\u001b[0m\u001b[0m\n",
      "\u001b[0;31mInFailedSqlTransaction\u001b[0m: current transaction is aborted, commands ignored until end of transaction block\n"
     ]
    }
   ],
   "source": [
    "# get raster data from postgis\n",
    "# landscape_gdf = gpd.read_postgis(landscape_query, engine, geom_col='geometry', params={'bounds': openspace_shapes})\n",
    "local_cursor = local_conn.cursor()\n",
    "local_cursor.execute(landscape_query, {'bounds': openspace_shapes})\n",
    "\n",
    "for row in local_cursor:\n",
    "    rast = row[0].tobytes()\n",
    "    with MemoryFile(rast).open() as dataset:\n",
    "        data_array = dataset.read()\n",
    "        print(data_array)\n",
    "\n",
    "    # data = rs.fetchone()[0]\n",
    "    # print(\"Data: %s\" % data)"
   ]
  },
  {
   "cell_type": "code",
   "execution_count": 10,
   "metadata": {},
   "outputs": [
    {
     "data": {
      "text/html": [
       "<div>\n",
       "<style scoped>\n",
       "    .dataframe tbody tr th:only-of-type {\n",
       "        vertical-align: middle;\n",
       "    }\n",
       "\n",
       "    .dataframe tbody tr th {\n",
       "        vertical-align: top;\n",
       "    }\n",
       "\n",
       "    .dataframe thead th {\n",
       "        text-align: right;\n",
       "    }\n",
       "</style>\n",
       "<table border=\"1\" class=\"dataframe\">\n",
       "  <thead>\n",
       "    <tr style=\"text-align: right;\">\n",
       "      <th></th>\n",
       "      <th>geometry</th>\n",
       "      <th>bbl</th>\n",
       "      <th>ownername</th>\n",
       "    </tr>\n",
       "  </thead>\n",
       "  <tbody>\n",
       "    <tr>\n",
       "      <th>0</th>\n",
       "      <td>POLYGON ((980585.862 200939.528, 980563.536 20...</td>\n",
       "      <td>1000160215.0</td>\n",
       "      <td>NYC DEPARTMENT OF EDUCATION</td>\n",
       "    </tr>\n",
       "  </tbody>\n",
       "</table>\n",
       "</div>"
      ],
      "text/plain": [
       "                                            geometry           bbl  \\\n",
       "0  POLYGON ((980585.862 200939.528, 980563.536 20...  1000160215.0   \n",
       "\n",
       "                     ownername  \n",
       "0  NYC DEPARTMENT OF EDUCATION  "
      ]
     },
     "execution_count": 10,
     "metadata": {},
     "output_type": "execute_result"
    }
   ],
   "source": [
    "landscape_gdf"
   ]
  },
  {
   "cell_type": "markdown",
   "metadata": {},
   "source": [
    "## Misc"
   ]
  },
  {
   "cell_type": "code",
   "execution_count": 56,
   "metadata": {},
   "outputs": [],
   "source": [
    "openspace_gdf.to_file(\"/Users/carstenrodin/Desktop/tmp/openspace3.geojson\", driver='GeoJSON')"
   ]
  },
  {
   "cell_type": "code",
   "execution_count": 49,
   "metadata": {},
   "outputs": [],
   "source": [
    "with open('../queries/2020-07-21_parks.sql', 'r') as file:\n",
    "    f = file.read()\n",
    "    parks_query = sqlalchemy.text(f)"
   ]
  },
  {
   "cell_type": "code",
   "execution_count": 50,
   "metadata": {},
   "outputs": [],
   "source": [
    "parks_gdf = gpd.read_postgis(parks_query, engine, geom_col='geometry')"
   ]
  },
  {
   "cell_type": "code",
   "execution_count": 51,
   "metadata": {},
   "outputs": [],
   "source": [
    "parks_gdf.to_file(\"/Users/carstenrodin/Desktop/tmp/parks.geojson\", driver='GeoJSON')"
   ]
  }
 ],
 "metadata": {
  "kernelspec": {
   "display_name": "Python 3.7.7 64-bit ('gis': conda)",
   "language": "python",
   "name": "python37764bitgisconda25dfcab64be54f598257cb202c5ac606"
  },
  "language_info": {
   "codemirror_mode": {
    "name": "ipython",
    "version": 3
   },
   "file_extension": ".py",
   "mimetype": "text/x-python",
   "name": "python",
   "nbconvert_exporter": "python",
   "pygments_lexer": "ipython3",
   "version": "3.7.7-final"
  }
 },
 "nbformat": 4,
 "nbformat_minor": 2
}