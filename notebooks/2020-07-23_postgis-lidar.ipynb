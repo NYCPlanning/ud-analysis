{
 "metadata": {
  "language_info": {
   "codemirror_mode": {
    "name": "ipython",
    "version": 3
   },
   "file_extension": ".py",
   "mimetype": "text/x-python",
   "name": "python",
   "nbconvert_exporter": "python",
   "pygments_lexer": "ipython3",
   "version": "3.8.2-final"
  },
  "orig_nbformat": 2,
  "kernelspec": {
   "name": "python3",
   "display_name": "Python 3"
  }
 },
 "nbformat": 4,
 "nbformat_minor": 2,
 "cells": [
  {
   "cell_type": "code",
   "execution_count": null,
   "metadata": {},
   "outputs": [],
   "source": []
  },
  {
   "cell_type": "code",
   "execution_count": 1,
   "metadata": {},
   "outputs": [
    {
     "output_type": "error",
     "ename": "NameError",
     "evalue": "name 'site_bounds' is not defined",
     "traceback": [
      "\u001b[0;31m---------------------------------------------------------------------------\u001b[0m",
      "\u001b[0;31mNameError\u001b[0m                                 Traceback (most recent call last)",
      "\u001b[0;32m<ipython-input-1-3167aba12005>\u001b[0m in \u001b[0;36m<module>\u001b[0;34m\u001b[0m\n\u001b[1;32m      9\u001b[0m             ST_Buffer(\n\u001b[1;32m     10\u001b[0m                 ST_GeomFromText(\n\u001b[0;32m---> 11\u001b[0;31m                     \u001b[0;34m'{site_bounds}'\u001b[0m\u001b[0;34m,\u001b[0m\u001b[0;34m\u001b[0m\u001b[0;34m\u001b[0m\u001b[0m\n\u001b[0m\u001b[1;32m     12\u001b[0m                     \u001b[0;36m2263\u001b[0m\u001b[0;34m\u001b[0m\u001b[0;34m\u001b[0m\u001b[0m\n\u001b[1;32m     13\u001b[0m                 ),\n",
      "\u001b[0;31mNameError\u001b[0m: name 'site_bounds' is not defined"
     ]
    }
   ],
   "source": [
    "query = f'''\n",
    "WITH patches AS (\n",
    "    SELECT pa\n",
    "    FROM\n",
    "        doitt_pointcloud_v2017 pts\n",
    "    WHERE\n",
    "        PC_Intersects(\n",
    "            pts.pa,\n",
    "            ST_Buffer(\n",
    "                ST_GeomFromText(\n",
    "                    '{site_bounds}', \n",
    "                    2263\n",
    "                ),\n",
    "                15\n",
    "            )\n",
    "        )        \n",
    "),\n",
    "points AS (\n",
    "    SELECT\n",
    "        PC_Explode(pa)\n",
    "        AS pt\n",
    "    FROM\n",
    "        patches\n",
    "),\n",
    "filtered_points AS ( \n",
    "    SELECT \n",
    "        PC_Get(pt, 'x') AS x,\n",
    "        PC_Get(pt, 'y') AS y,\n",
    "        PC_Get(pt, 'z') AS z,\n",
    "        PC_Get(pt, 'Classification') AS class,\n",
    "        pt\n",
    "    FROM\n",
    "        points\n",
    "        -- mtsthelens_rim r\n",
    "    -- WHERE\n",
    "    -- ST_Intersects (pt::geometry,\n",
    "    -- ST_Buffer(r.geom, 15))\n",
    ")\n",
    "SELECT\n",
    "    Geometry(pt) as geometry,\n",
    "    x,\n",
    "    y,\n",
    "    z,\n",
    "    class\n",
    "FROM \n",
    "    filtered_points;\n",
    "'''"
   ]
  }
 ]
}